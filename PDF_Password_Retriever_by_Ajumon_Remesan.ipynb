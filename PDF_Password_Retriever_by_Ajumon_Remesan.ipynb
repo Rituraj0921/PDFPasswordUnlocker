{
  "nbformat": 4,
  "nbformat_minor": 0,
  "metadata": {
    "colab": {
      "provenance": []
    },
    "kernelspec": {
      "name": "python3",
      "display_name": "Python 3"
    },
    "language_info": {
      "name": "python"
    }
  },
  "cells": [
    {
      "cell_type": "markdown",
      "source": [
        "#**PDF PASSWORD FINDER**"
      ],
      "metadata": {
        "id": "4N1mIEY18hpw"
      }
    },
    {
      "cell_type": "markdown",
      "source": [
        "## Steps to retrieve PDF Password\n",
        "***Steps to retrieve PDF Password***\n",
        "\n",
        ">Install and Import Required Libraries\n",
        "\n",
        ">>To install the necessary libraries, click on the \"RESTART SESSION\" button. This action will prompt a restart with the required libraries.\n",
        "\n",
        ">Generate a Password Word List\n",
        "\n",
        ">>Specify the minimum and maximum password length.\n",
        "\n",
        ">>Choose from password character options: UPPERCASE, lowercase, digits & symbols.\n",
        "\n",
        ">>Optionally select specific characters for password generation.\n",
        "\n",
        "\n",
        ">>>For instance, if your password contains the combination \"ABcd123,\" insert this combination to generate the password word list.\n",
        "\n",
        ">Upload PDF File to Colab\n",
        "\n",
        ">>Navigate to the file section and upload the PDF file.\n",
        "\n",
        ">>After uploading, right-click on the file and select \"Copy path\" to copy the file path.\n",
        "\n",
        ">>Paste the copied file path into the designated pdf_file area.\n",
        "\n",
        ">Run the PDF Password Finding Section\n",
        "\n",
        ">>Execute the PDF password finding section to retrieve the password.\n",
        "\n",
        ".\n",
        "\n",
        "Note: This process involves attempting to open the PDF with various\n",
        "combinations of passwords from the generated wordlist. Please be aware that complex passwords may require more time to retrieve.\n",
        "_______________________________________________________________________________\n",
        "________________________________________________\n",
        "_______________________________________\n"
      ],
      "metadata": {
        "id": "_4Wwa2hBwQYk"
      }
    },
    {
      "cell_type": "markdown",
      "source": [
        "## STEP 1: Installing Libraries"
      ],
      "metadata": {
        "id": "hOo6GeuL7mz-"
      }
    },
    {
      "cell_type": "code",
      "source": [
        "!pip install tqdm"
      ],
      "metadata": {
        "colab": {
          "base_uri": "https://localhost:8080/"
        },
        "collapsed": true,
        "id": "bLyql_q94xig",
        "outputId": "3c399907-2968-4016-9013-6499bb58f5e6"
      },
      "execution_count": null,
      "outputs": [
        {
          "output_type": "stream",
          "name": "stdout",
          "text": [
            "Requirement already satisfied: tqdm in /usr/local/lib/python3.10/dist-packages (4.66.4)\n"
          ]
        }
      ]
    },
    {
      "cell_type": "code",
      "source": [
        "!pip install pikepdf colorama"
      ],
      "metadata": {
        "colab": {
          "base_uri": "https://localhost:8080/",
          "height": 478
        },
        "collapsed": true,
        "id": "QlSVzWmVql--",
        "outputId": "47faacd1-1d06-4a49-e8c0-16ca118649d8"
      },
      "execution_count": null,
      "outputs": [
        {
          "output_type": "stream",
          "name": "stdout",
          "text": [
            "Collecting pikepdf\n",
            "  Downloading pikepdf-8.15.1-cp310-cp310-manylinux_2_17_x86_64.manylinux2014_x86_64.whl (2.4 MB)\n",
            "\u001b[2K     \u001b[90m━━━━━━━━━━━━━━━━━━━━━━━━━━━━━━━━━━━━━━━━\u001b[0m \u001b[32m2.4/2.4 MB\u001b[0m \u001b[31m11.4 MB/s\u001b[0m eta \u001b[36m0:00:00\u001b[0m\n",
            "\u001b[?25hCollecting colorama\n",
            "  Downloading colorama-0.4.6-py2.py3-none-any.whl (25 kB)\n",
            "Collecting Pillow>=10.0.1 (from pikepdf)\n",
            "  Downloading pillow-10.3.0-cp310-cp310-manylinux_2_28_x86_64.whl (4.5 MB)\n",
            "\u001b[2K     \u001b[90m━━━━━━━━━━━━━━━━━━━━━━━━━━━━━━━━━━━━━━━━\u001b[0m \u001b[32m4.5/4.5 MB\u001b[0m \u001b[31m10.0 MB/s\u001b[0m eta \u001b[36m0:00:00\u001b[0m\n",
            "\u001b[?25hCollecting Deprecated (from pikepdf)\n",
            "  Downloading Deprecated-1.2.14-py2.py3-none-any.whl (9.6 kB)\n",
            "Requirement already satisfied: lxml>=4.8 in /usr/local/lib/python3.10/dist-packages (from pikepdf) (4.9.4)\n",
            "Requirement already satisfied: packaging in /usr/local/lib/python3.10/dist-packages (from pikepdf) (24.0)\n",
            "Requirement already satisfied: wrapt<2,>=1.10 in /usr/local/lib/python3.10/dist-packages (from Deprecated->pikepdf) (1.14.1)\n",
            "Installing collected packages: Pillow, Deprecated, colorama, pikepdf\n",
            "  Attempting uninstall: Pillow\n",
            "    Found existing installation: Pillow 9.4.0\n",
            "    Uninstalling Pillow-9.4.0:\n",
            "      Successfully uninstalled Pillow-9.4.0\n",
            "\u001b[31mERROR: pip's dependency resolver does not currently take into account all the packages that are installed. This behaviour is the source of the following dependency conflicts.\n",
            "imageio 2.31.6 requires pillow<10.1.0,>=8.3.2, but you have pillow 10.3.0 which is incompatible.\u001b[0m\u001b[31m\n",
            "\u001b[0mSuccessfully installed Deprecated-1.2.14 Pillow-10.3.0 colorama-0.4.6 pikepdf-8.15.1\n"
          ]
        },
        {
          "output_type": "display_data",
          "data": {
            "application/vnd.colab-display-data+json": {
              "pip_warning": {
                "packages": [
                  "PIL"
                ]
              },
              "id": "0679871fe59e4277ad99d9e9734e2ef5"
            }
          },
          "metadata": {}
        }
      ]
    },
    {
      "cell_type": "markdown",
      "source": [
        "## STEP 2: Import Libraries"
      ],
      "metadata": {
        "id": "UmtXE54Axb_1"
      }
    },
    {
      "cell_type": "code",
      "source": [
        "import itertools\n",
        "import string\n",
        "from tqdm import tqdm\n",
        "import pikepdf\n",
        "from colorama import Fore, Style\n",
        "import cv2\n",
        "import numpy as np\n",
        "from google.colab.patches import cv2_imshow"
      ],
      "metadata": {
        "id": "UR-5IYe71MLM"
      },
      "execution_count": null,
      "outputs": []
    },
    {
      "cell_type": "markdown",
      "source": [
        "## STEP3: Generate Pass-Word list"
      ],
      "metadata": {
        "id": "hd75S0du7sc2"
      }
    },
    {
      "cell_type": "code",
      "source": [
        "\n",
        "\n",
        "def generate_wordlist(min_length, max_length, include_uppercase=True, include_lowercase=True, include_digits=True, include_special_characters=False, user_defined_characters=None):\n",
        "    # Define characters to include\n",
        "    characters = ''\n",
        "    if include_uppercase:\n",
        "        characters += string.ascii_uppercase\n",
        "    if include_lowercase:\n",
        "        characters += string.ascii_lowercase\n",
        "    if include_digits:\n",
        "        characters += string.digits\n",
        "    if include_special_characters:\n",
        "        characters += \"!@#$%^&*()_+={}[]|:;<>,.?/~\"\n",
        "    if user_defined_characters_only:\n",
        "        characters = user_defined_characters\n",
        "\n",
        "    # Generate all combinations of characters within the specified length range\n",
        "    words = []\n",
        "    total_combinations = sum(len(characters) ** length for length in range(min_length, max_length + 1))\n",
        "    with tqdm(total=total_combinations) as pbar:\n",
        "        for length in range(min_length, max_length + 1):\n",
        "            combinations = itertools.product(characters, repeat=length)\n",
        "            for combination in combinations:\n",
        "                word = ''.join(combination)\n",
        "                words.append(word)\n",
        "                pbar.update(1)\n",
        "\n",
        "    # Save words to a text file\n",
        "    with open('passwordlist.txt', 'w') as f:\n",
        "        for word in words:\n",
        "            f.write(word + '\\n')\n",
        "\n",
        "    print(\"Password-list generated successfully!\")\n",
        "    return words\n",
        "\n",
        "#@markdown ---\n",
        "#@markdown ### Password list Generator\n",
        "#@markdown Specify the Password parameters below and Run this section to generate the password list.\n",
        "min_length = 4 #@param {type:\"integer\"}\n",
        "max_length = 4 #@param {type:\"integer\"}\n",
        "include_uppercase = True #@param {type:\"boolean\"}\n",
        "include_lowercase = True #@param {type:\"boolean\"}\n",
        "include_digits = True #@param {type:\"boolean\"}\n",
        "include_special_characters = False #@param {type:\"boolean\"}\n",
        "user_defined_characters_only = False #@param {type:\"boolean\"}\n",
        "user_defined_characters = \"\" #@param {type:\"string\"}\n",
        "\n",
        "if user_defined_characters_only:\n",
        "    include_uppercase = include_lowercase = include_digits = include_special_characters = False\n",
        "\n",
        "# Generate wordlist\n",
        "generated_words = generate_wordlist(min_length, max_length, include_uppercase, include_lowercase, include_digits, include_special_characters, user_defined_characters)\n",
        "\n",
        "# Print total number of generated words\n",
        "print(\"Total number of generated passwords:\", len(generated_words))\n",
        "wordlist_file = \"passwordlist.txt\"\n",
        "#@markdown ---\n"
      ],
      "metadata": {
        "colab": {
          "base_uri": "https://localhost:8080/"
        },
        "cellView": "form",
        "id": "-QBwaJo8qHLA",
        "outputId": "d852bbac-1f7b-413c-b410-09c6ee7240ef"
      },
      "execution_count": null,
      "outputs": [
        {
          "output_type": "stream",
          "name": "stderr",
          "text": [
            "100%|██████████| 14776336/14776336 [00:10<00:00, 1445193.53it/s]\n"
          ]
        },
        {
          "output_type": "stream",
          "name": "stdout",
          "text": [
            "Password-list generated successfully!\n",
            "Total number of generated passwords: 14776336\n"
          ]
        }
      ]
    },
    {
      "cell_type": "markdown",
      "source": [
        "## STEP 4: Specify PDF file path"
      ],
      "metadata": {
        "id": "9HAvLrrE8G88"
      }
    },
    {
      "cell_type": "code",
      "source": [
        "#@markdown ---\n",
        "#@markdown # PDF file path\n",
        "#@markdown ## Upload the Password protected pdf file to google colab.\n",
        "#@markdown ## .\n",
        "#@markdown After uploading, Specify the pdf file path:\n",
        "\n",
        "pdf_file = \"/content/AA1B.pdf\" #@param {type:\"string\"}\n",
        "\n",
        "# Path to the wordlist\n",
        "wordlist_file = \"passwordlist.txt\"\n",
        "\n",
        "# Print total number of generated words\n",
        "print(\"PDF File received for unlock:\", pdf_file)\n",
        "#@markdown ---"
      ],
      "metadata": {
        "colab": {
          "base_uri": "https://localhost:8080/"
        },
        "cellView": "form",
        "id": "z5DVIv-bq9jf",
        "outputId": "82c9d49e-b3ac-4a78-9538-5ff0694529fe"
      },
      "execution_count": null,
      "outputs": [
        {
          "output_type": "stream",
          "name": "stdout",
          "text": [
            "PDF File received for unlock: /content/AA1B.pdf\n"
          ]
        }
      ]
    },
    {
      "cell_type": "markdown",
      "source": [
        "## STEP 5: Retrieve the PDF Password"
      ],
      "metadata": {
        "id": "2Crah1AQ75Pg"
      }
    },
    {
      "cell_type": "code",
      "source": [
        "\n",
        "#@markdown ---\n",
        "#@markdown # Password Retrieving.\n",
        "#@markdown Run this section to find the password.\n",
        "#@markdown ---\n",
        "\n",
        "\n",
        "# Function to attempt to open the PDF with a password\n",
        "def try_password(pdf_file, password, count):\n",
        "    try:\n",
        "        with pikepdf.open(pdf_file, password=password) as pdf:\n",
        "            global text\n",
        "            print(Fore.GREEN + f\"\\rPassword found: {password} (Tried {count} passwords)\" + Style.RESET_ALL, end=\"\")\n",
        "            text = f\"Wohoo.. Your PDF Password is: {password} \"\n",
        "            return True\n",
        "    except pikepdf.PasswordError:\n",
        "        print(Fore.RED + f\"\\rIncorrect password: {password} (Tried {count} passwords)\" + Style.RESET_ALL, end=\"\")\n",
        "        text = \"Sorry,Retry with different password list \"\n",
        "        return False\n",
        "\n",
        "# Initialize password count\n",
        "count = 0\n",
        "\n",
        "# Open the wordlist file\n",
        "with open(wordlist_file, 'r') as f:\n",
        "    # Iterate through each word in the wordlist\n",
        "    for word in f:\n",
        "        # Remove newline character\n",
        "        word = word.strip()\n",
        "        # Increment password count\n",
        "        count += 1\n",
        "        # Try to open the PDF with the current word as password\n",
        "        if try_password(pdf_file, word, count):\n",
        "            break  # Stop if password is found\n",
        "\n",
        "\n",
        "#Password Show\n",
        "# Set text properties\n",
        "font = cv2.FONT_HERSHEY_SIMPLEX\n",
        "font_scale = 1\n",
        "font_thickness = 2\n",
        "background_color = (255, 255, 255)  # White\n",
        "text_color = (0, 0, 0)  # Black\n",
        "\n",
        "# Create a blank image with the desired background color\n",
        "image_width = 800\n",
        "image_height = 100\n",
        "image = 255 * np.ones((image_height, image_width, 3), dtype=np.uint8)\n",
        "image[:] = background_color\n",
        "\n",
        "# Get text size and position\n",
        "text_size = cv2.getTextSize(text, font, font_scale, font_thickness)[0]\n",
        "text_x = (image_width - text_size[0]) // 2\n",
        "text_y = (image_height + text_size[1]) // 2\n",
        "\n",
        "# Add text to the image\n",
        "cv2.putText(image, text, (text_x, text_y), font, font_scale, text_color, font_thickness)\n",
        "\n",
        "# Display the image\n",
        "cv2_imshow(image)"
      ],
      "metadata": {
        "colab": {
          "base_uri": "https://localhost:8080/",
          "height": 134
        },
        "id": "jnE1PVNyuTer",
        "outputId": "a94dfcd8-3df3-4177-8d71-91c87ba8bdd0",
        "collapsed": true,
        "cellView": "form"
      },
      "execution_count": null,
      "outputs": [
        {
          "output_type": "stream",
          "name": "stdout",
          "text": [
            "Password found: AA1B (Tried 3288 passwords)\u001b[0m"
          ]
        },
        {
          "output_type": "display_data",
          "data": {
            "text/plain": [
              "<PIL.Image.Image image mode=RGB size=800x100>"
            ],
            "image/png": "[encoded data removed]",
            "image/jpeg": "[encoded data removed]"
          },
          "metadata": {}
        }
      ]
    }
  ]
}